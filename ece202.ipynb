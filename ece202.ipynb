{
 "cells": [
  {
   "cell_type": "code",
   "execution_count": 2,
   "metadata": {},
   "outputs": [],
   "source": [
    "%matplotlib inline\n",
    "\n",
    "from mpl_toolkits.mplot3d import Axes3D\n",
    "\n",
    "import matplotlib.pyplot as plt\n",
    "import numpy as np\n",
    "import sympy as sp"
   ]
  },
  {
   "cell_type": "code",
   "execution_count": 4,
   "metadata": {},
   "outputs": [],
   "source": [
    "def plane(P, N, m):\n",
    "    P = np.array(P)\n",
    "    N = np.array(N)\n",
    "    \n",
    "    d = -P.dot(N)\n",
    "\n",
    "    if N[2] != 0:\n",
    "        xx, yy = np.meshgrid(range(-m, m+1), range(-m, m+1))\n",
    "        zz = (-N[0] * xx - N[1] * yy - d) / N[2]\n",
    "    elif N[1] != 0:\n",
    "        xx, zz = np.meshgrid(range(-m, m+1), range(-m, m+1))\n",
    "        yy = (-N[0] * xx - N[2] * zz - d) / N[1]\n",
    "    elif N[0] != 0:\n",
    "        yy, zz = np.meshgrid(range(-m, m+1), range(-m, m+1))\n",
    "        zz = (-N[1] * yy - N[2] * zz - d) / N[0]\n",
    "\n",
    "    return (xx, yy, zz)\n",
    "\n",
    "def boundary(N, E1, er1, er2, sigma=0):\n",
    "    E1 = np.array(E1)\n",
    "    N = np.array(N)\n",
    "\n",
    "    n = N / np.linalg.norm(N)\n",
    "    E1n = E1.dot(n) * n\n",
    "    E1t = E1 - E1n\n",
    "\n",
    "    E2n = (er1*E1n - sigma*n)/er2\n",
    "    E2t = E1t\n",
    "\n",
    "    E2 = E2n + E2t\n",
    "\n",
    "    return E2"
   ]
  },
  {
   "cell_type": "code",
   "execution_count": 7,
   "metadata": {},
   "outputs": [],
   "source": [
    "def show_plot(E1, N, er1, er2, sigma=0):\n",
    "    fig = plt.figure()\n",
    "    ax = plt.axes(projection=\"3d\")\n",
    "    zero = [0, 0, 0]\n",
    "\n",
    "    E2 = boundary(E1, N, er1, er2, sigma=sigma)\n",
    "    m = int(np.ceil(np.max([N, E1, E2])))\n",
    "\n",
    "    pln = plane(zero, N, m)\n",
    "    \n",
    "    ax.plot_surface(*pln, color='gray', alpha=0.5)\n",
    "    ax.plot(*list(zip(zero, N)), color='red')\n",
    "    ax.plot(*list(zip(zero, E1)), color='blue')\n",
    "    ax.plot(*list(zip(zero, E2)), color='green')"
   ]
  },
  {
   "cell_type": "code",
   "execution_count": 4,
   "metadata": {
    "tags": []
   },
   "outputs": [
    {
     "output_type": "stream",
     "name": "stdout",
     "text": "[1. 2. 3.]\n[0.5 1.  1.5]\n[0.5 1.  1.5]\n[1.42857143 1.14285714 1.71428571]\n[0.78571429 2.42857143 2.35714286]\n"
    }
   ],
   "source": [
    "for N in ([1, 1, -1], [1, 2, 3], [-2, -4, -6], [-1, 2, 3], [1, -2, 3]):\n",
    "    print(boundary(N, [1, 2, 3], 1, 2)) "
   ]
  },
  {
   "cell_type": "code",
   "execution_count": 14,
   "metadata": {},
   "outputs": [
    {
     "output_type": "execute_result",
     "data": {
      "text/plain": "array([1., 2., 3.])"
     },
     "metadata": {},
     "execution_count": 14
    }
   ],
   "source": [
    "boundary([1, 2, 3], [1, 1, -1], 1, 2)"
   ]
  },
  {
   "cell_type": "code",
   "execution_count": 15,
   "metadata": {},
   "outputs": [
    {
     "output_type": "execute_result",
     "data": {
      "text/plain": "array([0.5, 1. , 1.5])"
     },
     "metadata": {},
     "execution_count": 15
    }
   ],
   "source": [
    "boundary([1, 2, 3], [1, 2, 3], 1, 2)"
   ]
  },
  {
   "cell_type": "code",
   "execution_count": 16,
   "metadata": {},
   "outputs": [
    {
     "output_type": "execute_result",
     "data": {
      "text/plain": "array([0.5, 1. , 1.5])"
     },
     "metadata": {},
     "execution_count": 16
    }
   ],
   "source": [
    "boundary([1, 2, 3], [-1, -2, -3], 1, 2)"
   ]
  },
  {
   "cell_type": "code",
   "execution_count": 17,
   "metadata": {},
   "outputs": [
    {
     "output_type": "execute_result",
     "data": {
      "text/plain": "array([2., 4., 6.])"
     },
     "metadata": {},
     "execution_count": 17
    }
   ],
   "source": [
    "boundary([1, 2, 3], [1, 2, 3], 1, 2)"
   ]
  },
  {
   "cell_type": "code",
   "execution_count": 11,
   "metadata": {},
   "outputs": [
    {
     "output_type": "execute_result",
     "data": {
      "text/plain": "array([0.5, 1. , 1.5])"
     },
     "metadata": {},
     "execution_count": 11
    }
   ],
   "source": [
    "boundary([1, 2, 3], [1, 2, 3], 1, 2)"
   ]
  },
  {
   "cell_type": "code",
   "execution_count": 14,
   "metadata": {},
   "outputs": [
    {
     "output_type": "execute_result",
     "data": {
      "text/plain": "array([0.5, 1. , 1.5])"
     },
     "metadata": {},
     "execution_count": 14
    }
   ],
   "source": [
    "boundary([-1, -2, -3], [1, 2, 3], 1, 2)"
   ]
  },
  {
   "cell_type": "code",
   "execution_count": 15,
   "metadata": {},
   "outputs": [
    {
     "output_type": "execute_result",
     "data": {
      "text/plain": "array([-0.1681531 , -0.33630621, -0.50445931])"
     },
     "metadata": {},
     "execution_count": 15
    }
   ],
   "source": [
    "boundary([1, 2, 3], [1, 2, 3], 1, 2, sigma=5)"
   ]
  },
  {
   "cell_type": "code",
   "execution_count": 16,
   "metadata": {},
   "outputs": [
    {
     "output_type": "execute_result",
     "data": {
      "text/plain": "array([1.1681531 , 2.33630621, 3.50445931])"
     },
     "metadata": {},
     "execution_count": 16
    }
   ],
   "source": [
    "boundary([-1, -2, -3], [1, 2, 3], 1, 2, sigma=5)"
   ]
  },
  {
   "cell_type": "code",
   "execution_count": null,
   "metadata": {},
   "outputs": [],
   "source": []
  }
 ],
 "metadata": {
  "kernelspec": {
   "display_name": "Python 3.8.2 64-bit ('ece208-m62qUVzV-py3.8': venv)",
   "language": "python",
   "name": "python38264bitece208m62quvzvpy38venva0782f6299c945048c418b642f02e2c9"
  },
  "language_info": {
   "codemirror_mode": {
    "name": "ipython",
    "version": 3
   },
   "file_extension": ".py",
   "mimetype": "text/x-python",
   "name": "python",
   "nbconvert_exporter": "python",
   "pygments_lexer": "ipython3",
   "version": "3.8.2-final"
  }
 },
 "nbformat": 4,
 "nbformat_minor": 2
}