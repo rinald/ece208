{
 "cells": [
  {
   "cell_type": "code",
   "execution_count": 2,
   "metadata": {},
   "outputs": [],
   "source": [
    "%matplotlib widget\n",
    "\n",
    "from mpl_toolkits.mplot3d import Axes3D\n",
    "\n",
    "import matplotlib.pyplot as plt\n",
    "import numpy as np\n",
    "import sympy as sp"
   ]
  },
  {
   "cell_type": "code",
   "execution_count": 4,
   "metadata": {},
   "outputs": [],
   "source": [
    "def plane(P, N, m):\n",
    "    P = np.array(P)\n",
    "    N = np.array(N)\n",
    "    \n",
    "    d = -P.dot(N)\n",
    "    xx, yy = np.meshgrid(range(-m, m+1), range(-m, m+1))\n",
    "\n",
    "    z = (-N[0] * xx - N[1] * yy - d) * 1 / N[2]\n",
    "\n",
    "    return (xx, yy, z)\n",
    "\n",
    "def boundary(E1, N, er1, er2, sigma=0):\n",
    "    E1 = np.array(E1)\n",
    "    N = np.array(N)\n",
    "\n",
    "    n = N / np.linalg.norm(N)\n",
    "    En1 = E1.dot(n) * n\n",
    "    Et1 = E1 - En1\n",
    "\n",
    "    En2 = (er1*En1 - sigma)/er2\n",
    "    Et2 = Et1\n",
    "    E2 = En2 + Et2\n",
    "\n",
    "    return E2"
   ]
  },
  {
   "cell_type": "code",
   "execution_count": 4,
   "metadata": {},
   "outputs": [],
   "source": [
    "def show_plot(E1, N, er1, er2, sigma=0):\n",
    "    fig = plt.figure()\n",
    "    ax = plt.axes(projection=\"3d\")\n",
    "    zero = [0, 0, 0]\n",
    "\n",
    "    E2 = boundary(E1, N, er1, er2, sigma=sigma)\n",
    "    m = int(np.ceil(np.max([N, E1, E2])))\n",
    "\n",
    "    pln = plane(zero, N, m)\n",
    "    \n",
    "    ax.plot_surface(*pln, color='gray', alpha=0.5)\n",
    "    ax.plot(*list(zip(zero, N)), color='red')\n",
    "    ax.plot(*list(zip(zero, E1)), color='blue')\n",
    "    ax.plot(*list(zip(zero, E2)), color='green')"
   ]
  },
  {
   "cell_type": "code",
   "execution_count": 5,
   "metadata": {},
   "outputs": [
    {
     "output_type": "display_data",
     "data": {
      "text/plain": "Canvas(toolbar=Toolbar(toolitems=[('Home', 'Reset original view', 'home', 'home'), ('Back', 'Back to previous …",
      "application/vnd.jupyter.widget-view+json": {
       "version_major": 2,
       "version_minor": 0,
       "model_id": "3caa8d577d814b5e8e558f540392c230"
      }
     },
     "metadata": {}
    }
   ],
   "source": [
    "show_plot([1, 2, 1], [1, 0, 1], 2.1, 4)"
   ]
  },
  {
   "cell_type": "code",
   "execution_count": 6,
   "metadata": {},
   "outputs": [
    {
     "output_type": "display_data",
     "data": {
      "text/plain": "Canvas(toolbar=Toolbar(toolitems=[('Home', 'Reset original view', 'home', 'home'), ('Back', 'Back to previous …",
      "application/vnd.jupyter.widget-view+json": {
       "version_major": 2,
       "version_minor": 0,
       "model_id": "14ea37c367e4445a871d31cd52a0a7cc"
      }
     },
     "metadata": {}
    }
   ],
   "source": [
    "show_plot([1, 2, 1], [1, 0, 1], 2.1, 4, sigma=5)"
   ]
  },
  {
   "cell_type": "code",
   "execution_count": 6,
   "metadata": {},
   "outputs": [
    {
     "output_type": "execute_result",
     "data": {
      "text/plain": "(array([[-2, -1,  0,  1,  2],\n        [-2, -1,  0,  1,  2],\n        [-2, -1,  0,  1,  2],\n        [-2, -1,  0,  1,  2],\n        [-2, -1,  0,  1,  2]]),\n array([[-2, -2, -2, -2, -2],\n        [-1, -1, -1, -1, -1],\n        [ 0,  0,  0,  0,  0],\n        [ 1,  1,  1,  1,  1],\n        [ 2,  2,  2,  2,  2]]),\n array([[ inf,  inf,  inf,  inf,  nan],\n        [ inf,  inf,  inf,  nan, -inf],\n        [ inf,  inf,  nan, -inf, -inf],\n        [ inf,  nan, -inf, -inf, -inf],\n        [ nan, -inf, -inf, -inf, -inf]]))"
     },
     "metadata": {},
     "execution_count": 6
    }
   ],
   "source": [
    "plane([0,0,0], [1, 1, 0], 2)"
   ]
  },
  {
   "cell_type": "code",
   "execution_count": null,
   "metadata": {},
   "outputs": [],
   "source": []
  }
 ],
 "metadata": {
  "kernelspec": {
   "display_name": "Python 3.8.2 64-bit ('ece208-m62qUVzV-py3.8': venv)",
   "language": "python",
   "name": "python38264bitece208m62quvzvpy38venva0782f6299c945048c418b642f02e2c9"
  },
  "language_info": {
   "codemirror_mode": {
    "name": "ipython",
    "version": 3
   },
   "file_extension": ".py",
   "mimetype": "text/x-python",
   "name": "python",
   "nbconvert_exporter": "python",
   "pygments_lexer": "ipython3",
   "version": "3.8.2-final"
  }
 },
 "nbformat": 4,
 "nbformat_minor": 2
}