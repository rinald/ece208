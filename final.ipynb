{
 "metadata": {
  "language_info": {
   "codemirror_mode": {
    "name": "ipython",
    "version": 3
   },
   "file_extension": ".py",
   "mimetype": "text/x-python",
   "name": "python",
   "nbconvert_exporter": "python",
   "pygments_lexer": "ipython3",
   "version": 3
  },
  "orig_nbformat": 2,
  "kernelspec": {
   "name": "python_defaultSpec_1595497648197",
   "display_name": "Python 3.8.2 64-bit ('ece208-m62qUVzV-py3.8': venv)"
  }
 },
 "nbformat": 4,
 "nbformat_minor": 2,
 "cells": [
  {
   "cell_type": "code",
   "execution_count": 1,
   "metadata": {},
   "outputs": [],
   "source": [
    "from numan.interpolation import x, lagrangian, newton, Matrix\n",
    "from numan.methods import gauss_seidel"
   ]
  },
  {
   "cell_type": "code",
   "execution_count": 2,
   "metadata": {},
   "outputs": [],
   "source": [
    "_, f = lagrangian('0 1 5/2', '1 2/3 5/9')"
   ]
  },
  {
   "cell_type": "code",
   "execution_count": 3,
   "metadata": {},
   "outputs": [
    {
     "output_type": "execute_result",
     "data": {
      "text/plain": "14*x**2/135 - 59*x/135 + 1",
      "text/latex": "$\\displaystyle \\frac{14 x^{2}}{135} - \\frac{59 x}{135} + 1$"
     },
     "metadata": {},
     "execution_count": 3
    }
   ],
   "source": [
    "f"
   ]
  },
  {
   "cell_type": "code",
   "execution_count": 4,
   "metadata": {},
   "outputs": [
    {
     "output_type": "execute_result",
     "data": {
      "text/plain": "0.543407407407407",
      "text/latex": "$\\displaystyle 0.543407407407407$"
     },
     "metadata": {},
     "execution_count": 4
    }
   ],
   "source": [
    "f.subs(x, 2.3)"
   ]
  },
  {
   "cell_type": "code",
   "execution_count": 5,
   "metadata": {},
   "outputs": [],
   "source": [
    "_, f = newton('0 1 5/2', '1 2/3 5/9')"
   ]
  },
  {
   "cell_type": "code",
   "execution_count": 6,
   "metadata": {},
   "outputs": [
    {
     "output_type": "execute_result",
     "data": {
      "text/plain": "14*x**2/135 - 59*x/135 + 1",
      "text/latex": "$\\displaystyle \\frac{14 x^{2}}{135} - \\frac{59 x}{135} + 1$"
     },
     "metadata": {},
     "execution_count": 6
    }
   ],
   "source": [
    "f"
   ]
  },
  {
   "cell_type": "code",
   "execution_count": 12,
   "metadata": {
    "tags": []
   },
   "outputs": [
    {
     "output_type": "stream",
     "name": "stdout",
     "text": "[0.300000000000000, 0.420000000000000, -0.582000000000000]\n[0.393600000000000, 0.282840000000000, -0.509064000000000]\n[0.339607200000000, 0.283123680000000, -0.503834928000000]\n[0.340794854400000, 0.285167463360000, -0.505179963456000]\n[0.341547738988800, 0.285065106558720, -0.505193837834112]\n[0.341493785712538, 0.285039362934781, -0.505172996332123]\n[0.341485082200966, 0.285042133980750, -0.505173788608546]\n[0.341486309268666, 0.285042387124902, -0.505174063201808]\n[0.341486380922090, 0.285042333408293, -0.505174038137185]\n[0.341486359076710, 0.285042332189528, -0.505174035221388]\n"
    }
   ],
   "source": [
    "gauss_seidel([[10, -5, -2], [4, -10, 3], [1, 6, 10]], [3, -3, -3])"
   ]
  },
  {
   "cell_type": "code",
   "execution_count": 19,
   "metadata": {},
   "outputs": [],
   "source": [
    "A = Matrix([[1, -1, 0], [-1, 2, -1], [0, -1, 4]])"
   ]
  },
  {
   "cell_type": "code",
   "execution_count": 20,
   "metadata": {},
   "outputs": [],
   "source": [
    "L, U, _ = A.LUdecomposition()"
   ]
  },
  {
   "cell_type": "code",
   "execution_count": 21,
   "metadata": {},
   "outputs": [
    {
     "output_type": "execute_result",
     "data": {
      "text/plain": "Matrix([\n[ 1,  0, 0],\n[-1,  1, 0],\n[ 0, -1, 1]])",
      "text/latex": "$\\displaystyle \\left[\\begin{matrix}1 & 0 & 0\\\\-1 & 1 & 0\\\\0 & -1 & 1\\end{matrix}\\right]$"
     },
     "metadata": {},
     "execution_count": 21
    }
   ],
   "source": [
    "L"
   ]
  },
  {
   "cell_type": "code",
   "execution_count": 22,
   "metadata": {},
   "outputs": [
    {
     "output_type": "execute_result",
     "data": {
      "text/plain": "Matrix([\n[1, -1,  0],\n[0,  1, -1],\n[0,  0,  3]])",
      "text/latex": "$\\displaystyle \\left[\\begin{matrix}1 & -1 & 0\\\\0 & 1 & -1\\\\0 & 0 & 3\\end{matrix}\\right]$"
     },
     "metadata": {},
     "execution_count": 22
    }
   ],
   "source": [
    "U"
   ]
  },
  {
   "cell_type": "code",
   "execution_count": 23,
   "metadata": {
    "tags": []
   },
   "outputs": [
    {
     "output_type": "stream",
     "name": "stdout",
     "text": "[0, 0.500000000000000, 0.125000000000000]\n[0.500000000000000, 0.812500000000000, 0.203125000000000]\n[0.812500000000000, 1.00781250000000, 0.251953125000000]\n[1.00781250000000, 1.12988281250000, 0.282470703125000]\n[1.12988281250000, 1.20617675781250, 0.301544189453125]\n[1.20617675781250, 1.25386047363281, 0.313465118408203]\n[1.25386047363281, 1.28366279602051, 0.320915699005127]\n[1.28366279602051, 1.30228924751282, 0.325572311878204]\n[1.30228924751282, 1.31393077969551, 0.328482694923878]\n[1.31393077969551, 1.32120673730969, 0.330301684327424]\n"
    }
   ],
   "source": [
    "gauss_seidel([[1, -1, 0], [-1, 2, -1], [0, -1, 4]], [0, 1, 0])"
   ]
  },
  {
   "cell_type": "code",
   "execution_count": 24,
   "metadata": {},
   "outputs": [],
   "source": [
    "A= Matrix([[1, -1, 0], [-1, 2, -1], [0, -1, 4]])"
   ]
  },
  {
   "cell_type": "code",
   "execution_count": 25,
   "metadata": {},
   "outputs": [
    {
     "output_type": "execute_result",
     "data": {
      "text/plain": "3",
      "text/latex": "$\\displaystyle 3$"
     },
     "metadata": {},
     "execution_count": 25
    }
   ],
   "source": [
    "A.det()"
   ]
  },
  {
   "cell_type": "code",
   "execution_count": null,
   "metadata": {},
   "outputs": [],
   "source": []
  }
 ]
}