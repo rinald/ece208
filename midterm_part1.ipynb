{
 "cells": [
  {
   "cell_type": "code",
   "execution_count": 1,
   "metadata": {},
   "outputs": [],
   "source": [
    "from numan.methods import *"
   ]
  },
  {
   "cell_type": "code",
   "execution_count": 2,
   "metadata": {},
   "outputs": [
    {
     "output_type": "execute_result",
     "data": {
      "text/plain": "     x (exact)                 x              error\n0            1                 1                   \n1            2                 2                   \n2          3/2  1.50000000000000  0.500000000000000\n3          5/4  1.25000000000000  0.250000000000000\n4         11/8  1.37500000000000  0.125000000000000\n5        23/16  1.43750000000000  0.062500000000000\nroot            1.44224957030741  0.000000000000000",
      "text/html": "<div>\n<style scoped>\n    .dataframe tbody tr th:only-of-type {\n        vertical-align: middle;\n    }\n\n    .dataframe tbody tr th {\n        vertical-align: top;\n    }\n\n    .dataframe thead th {\n        text-align: right;\n    }\n</style>\n<table border=\"1\" class=\"dataframe\">\n  <thead>\n    <tr style=\"text-align: right;\">\n      <th></th>\n      <th>x (exact)</th>\n      <th>x</th>\n      <th>error</th>\n    </tr>\n  </thead>\n  <tbody>\n    <tr>\n      <th>0</th>\n      <td>1</td>\n      <td>1</td>\n      <td></td>\n    </tr>\n    <tr>\n      <th>1</th>\n      <td>2</td>\n      <td>2</td>\n      <td></td>\n    </tr>\n    <tr>\n      <th>2</th>\n      <td>3/2</td>\n      <td>1.50000000000000</td>\n      <td>0.500000000000000</td>\n    </tr>\n    <tr>\n      <th>3</th>\n      <td>5/4</td>\n      <td>1.25000000000000</td>\n      <td>0.250000000000000</td>\n    </tr>\n    <tr>\n      <th>4</th>\n      <td>11/8</td>\n      <td>1.37500000000000</td>\n      <td>0.125000000000000</td>\n    </tr>\n    <tr>\n      <th>5</th>\n      <td>23/16</td>\n      <td>1.43750000000000</td>\n      <td>0.062500000000000</td>\n    </tr>\n    <tr>\n      <th>root</th>\n      <td></td>\n      <td>1.44224957030741</td>\n      <td>0.000000000000000</td>\n    </tr>\n  </tbody>\n</table>\n</div>"
     },
     "metadata": {},
     "execution_count": 2
    }
   ],
   "source": [
    "bisection(x**3-3, 1, 2, t=0.1)\n",
    "# Answer: x=1.4375"
   ]
  },
  {
   "cell_type": "code",
   "execution_count": 3,
   "metadata": {},
   "outputs": [
    {
     "output_type": "execute_result",
     "data": {
      "text/plain": "         x (exact)                   x              error\n0               -2                  -2                   \n1                0                   0                   \n2               -1   -1.00000000000000  1.000000000000000\n3             -1/2  -0.500000000000000  0.500000000000000\n4             -3/4  -0.750000000000000  0.250000000000000\n5             -5/8  -0.625000000000000  0.125000000000000\n6           -11/16  -0.687500000000000  0.062500000000000\n7           -23/32  -0.718750000000000  0.031250000000000\n8           -45/64  -0.703125000000000  0.015625000000000\n9          -91/128  -0.710937500000000  0.007812500000000\n10        -181/256  -0.707031250000000  0.003906250000000\n11        -361/512  -0.705078125000000  0.001953125000000\n12       -721/1024  -0.704101562500000  0.000976562500000\n13      -1441/2048  -0.703613281250000  0.000488281250000\n14      -2881/4096  -0.703369140625000  0.000244140625000\n15      -5763/8192  -0.703491210937500  0.000122070312500\n16    -11525/16384  -0.703430175781250  0.000061035156250\nroot                -0.703467422498392  0.000000000000000",
      "text/html": "<div>\n<style scoped>\n    .dataframe tbody tr th:only-of-type {\n        vertical-align: middle;\n    }\n\n    .dataframe tbody tr th {\n        vertical-align: top;\n    }\n\n    .dataframe thead th {\n        text-align: right;\n    }\n</style>\n<table border=\"1\" class=\"dataframe\">\n  <thead>\n    <tr style=\"text-align: right;\">\n      <th></th>\n      <th>x (exact)</th>\n      <th>x</th>\n      <th>error</th>\n    </tr>\n  </thead>\n  <tbody>\n    <tr>\n      <th>0</th>\n      <td>-2</td>\n      <td>-2</td>\n      <td></td>\n    </tr>\n    <tr>\n      <th>1</th>\n      <td>0</td>\n      <td>0</td>\n      <td></td>\n    </tr>\n    <tr>\n      <th>2</th>\n      <td>-1</td>\n      <td>-1.00000000000000</td>\n      <td>1.000000000000000</td>\n    </tr>\n    <tr>\n      <th>3</th>\n      <td>-1/2</td>\n      <td>-0.500000000000000</td>\n      <td>0.500000000000000</td>\n    </tr>\n    <tr>\n      <th>4</th>\n      <td>-3/4</td>\n      <td>-0.750000000000000</td>\n      <td>0.250000000000000</td>\n    </tr>\n    <tr>\n      <th>5</th>\n      <td>-5/8</td>\n      <td>-0.625000000000000</td>\n      <td>0.125000000000000</td>\n    </tr>\n    <tr>\n      <th>6</th>\n      <td>-11/16</td>\n      <td>-0.687500000000000</td>\n      <td>0.062500000000000</td>\n    </tr>\n    <tr>\n      <th>7</th>\n      <td>-23/32</td>\n      <td>-0.718750000000000</td>\n      <td>0.031250000000000</td>\n    </tr>\n    <tr>\n      <th>8</th>\n      <td>-45/64</td>\n      <td>-0.703125000000000</td>\n      <td>0.015625000000000</td>\n    </tr>\n    <tr>\n      <th>9</th>\n      <td>-91/128</td>\n      <td>-0.710937500000000</td>\n      <td>0.007812500000000</td>\n    </tr>\n    <tr>\n      <th>10</th>\n      <td>-181/256</td>\n      <td>-0.707031250000000</td>\n      <td>0.003906250000000</td>\n    </tr>\n    <tr>\n      <th>11</th>\n      <td>-361/512</td>\n      <td>-0.705078125000000</td>\n      <td>0.001953125000000</td>\n    </tr>\n    <tr>\n      <th>12</th>\n      <td>-721/1024</td>\n      <td>-0.704101562500000</td>\n      <td>0.000976562500000</td>\n    </tr>\n    <tr>\n      <th>13</th>\n      <td>-1441/2048</td>\n      <td>-0.703613281250000</td>\n      <td>0.000488281250000</td>\n    </tr>\n    <tr>\n      <th>14</th>\n      <td>-2881/4096</td>\n      <td>-0.703369140625000</td>\n      <td>0.000244140625000</td>\n    </tr>\n    <tr>\n      <th>15</th>\n      <td>-5763/8192</td>\n      <td>-0.703491210937500</td>\n      <td>0.000122070312500</td>\n    </tr>\n    <tr>\n      <th>16</th>\n      <td>-11525/16384</td>\n      <td>-0.703430175781250</td>\n      <td>0.000061035156250</td>\n    </tr>\n    <tr>\n      <th>root</th>\n      <td></td>\n      <td>-0.703467422498392</td>\n      <td>0.000000000000000</td>\n    </tr>\n  </tbody>\n</table>\n</div>"
     },
     "metadata": {},
     "execution_count": 3
    }
   ],
   "source": [
    "bisection(exp(x)-x**2, -2, 0, t=1e-15, n=15)\n",
    "# Answer: k>=28, x≈-0.7035"
   ]
  },
  {
   "cell_type": "code",
   "execution_count": 4,
   "metadata": {},
   "outputs": [
    {
     "output_type": "execute_result",
     "data": {
      "text/plain": "                     x          error (%)\n0                  1.1                   \n1     1.29056152738538  0.190561527385378\n2     1.28772923724771  0.002832290137666\n3     1.28772749798688  0.000001739260837\n4     1.28772749798622  0.000000000000651\nroot  1.28772749798622  0.000000000000000",
      "text/html": "<div>\n<style scoped>\n    .dataframe tbody tr th:only-of-type {\n        vertical-align: middle;\n    }\n\n    .dataframe tbody tr th {\n        vertical-align: top;\n    }\n\n    .dataframe thead th {\n        text-align: right;\n    }\n</style>\n<table border=\"1\" class=\"dataframe\">\n  <thead>\n    <tr style=\"text-align: right;\">\n      <th></th>\n      <th>x</th>\n      <th>error (%)</th>\n    </tr>\n  </thead>\n  <tbody>\n    <tr>\n      <th>0</th>\n      <td>1.1</td>\n      <td></td>\n    </tr>\n    <tr>\n      <th>1</th>\n      <td>1.29056152738538</td>\n      <td>0.190561527385378</td>\n    </tr>\n    <tr>\n      <th>2</th>\n      <td>1.28772923724771</td>\n      <td>0.002832290137666</td>\n    </tr>\n    <tr>\n      <th>3</th>\n      <td>1.28772749798688</td>\n      <td>0.000001739260837</td>\n    </tr>\n    <tr>\n      <th>4</th>\n      <td>1.28772749798622</td>\n      <td>0.000000000000651</td>\n    </tr>\n    <tr>\n      <th>root</th>\n      <td>1.28772749798622</td>\n      <td>0.000000000000000</td>\n    </tr>\n  </tbody>\n</table>\n</div>"
     },
     "metadata": {},
     "execution_count": 4
    }
   ],
   "source": [
    "newton(x**3-5/(2*x**(3/2))+2*x-3, 1.1)\n",
    "# Answer: x2~=1.288, x3~=1.288, x4~=1.288"
   ]
  },
  {
   "cell_type": "code",
   "execution_count": 5,
   "metadata": {},
   "outputs": [
    {
     "output_type": "execute_result",
     "data": {
      "text/plain": "                       x          error (%)\n0                      0                   \n1     -0.500000000000000  0.500000000000000\n2     -0.636669982871907  0.136669982871907\n3     -0.658606341152314  0.021936358280408\n4     -0.659265441566532  0.000659100414218\nroot  -0.659266045766946  0.000000000000000",
      "text/html": "<div>\n<style scoped>\n    .dataframe tbody tr th:only-of-type {\n        vertical-align: middle;\n    }\n\n    .dataframe tbody tr th {\n        vertical-align: top;\n    }\n\n    .dataframe thead th {\n        text-align: right;\n    }\n</style>\n<table border=\"1\" class=\"dataframe\">\n  <thead>\n    <tr style=\"text-align: right;\">\n      <th></th>\n      <th>x</th>\n      <th>error (%)</th>\n    </tr>\n  </thead>\n  <tbody>\n    <tr>\n      <th>0</th>\n      <td>0</td>\n      <td></td>\n    </tr>\n    <tr>\n      <th>1</th>\n      <td>-0.500000000000000</td>\n      <td>0.500000000000000</td>\n    </tr>\n    <tr>\n      <th>2</th>\n      <td>-0.636669982871907</td>\n      <td>0.136669982871907</td>\n    </tr>\n    <tr>\n      <th>3</th>\n      <td>-0.658606341152314</td>\n      <td>0.021936358280408</td>\n    </tr>\n    <tr>\n      <th>4</th>\n      <td>-0.659265441566532</td>\n      <td>0.000659100414218</td>\n    </tr>\n    <tr>\n      <th>root</th>\n      <td>-0.659266045766946</td>\n      <td>0.000000000000000</td>\n    </tr>\n  </tbody>\n</table>\n</div>"
     },
     "metadata": {},
     "execution_count": 5
    }
   ],
   "source": [
    "newton(cos(x)+2*sin(x)+x**2, 0, t=1e-3)\n",
    "# Answer: x≈-0.6592"
   ]
  },
  {
   "cell_type": "code",
   "execution_count": 6,
   "metadata": {},
   "outputs": [
    {
     "output_type": "execute_result",
     "data": {
      "text/plain": "                     x          error (%)\n0                  1.3                   \n1     1.51729199019495  0.217291990194947\n2     1.56812505356329  0.050833063368338\n3     1.57078921642485  0.002664162861567\n4     1.57079632674434  0.000007110319487\n5     1.57079632679490  0.000000000050557\nroot  1.57079632679490  0.000000000000000",
      "text/html": "<div>\n<style scoped>\n    .dataframe tbody tr th:only-of-type {\n        vertical-align: middle;\n    }\n\n    .dataframe tbody tr th {\n        vertical-align: top;\n    }\n\n    .dataframe thead th {\n        text-align: right;\n    }\n</style>\n<table border=\"1\" class=\"dataframe\">\n  <thead>\n    <tr style=\"text-align: right;\">\n      <th></th>\n      <th>x</th>\n      <th>error (%)</th>\n    </tr>\n  </thead>\n  <tbody>\n    <tr>\n      <th>0</th>\n      <td>1.3</td>\n      <td></td>\n    </tr>\n    <tr>\n      <th>1</th>\n      <td>1.51729199019495</td>\n      <td>0.217291990194947</td>\n    </tr>\n    <tr>\n      <th>2</th>\n      <td>1.56812505356329</td>\n      <td>0.050833063368338</td>\n    </tr>\n    <tr>\n      <th>3</th>\n      <td>1.57078921642485</td>\n      <td>0.002664162861567</td>\n    </tr>\n    <tr>\n      <th>4</th>\n      <td>1.57079632674434</td>\n      <td>0.000007110319487</td>\n    </tr>\n    <tr>\n      <th>5</th>\n      <td>1.57079632679490</td>\n      <td>0.000000000050557</td>\n    </tr>\n    <tr>\n      <th>root</th>\n      <td>1.57079632679490</td>\n      <td>0.000000000000000</td>\n    </tr>\n  </tbody>\n</table>\n</div>"
     },
     "metadata": {},
     "execution_count": 6
    }
   ],
   "source": [
    "newton(exp(-x)*cos(x), 1.3)\n",
    "# Answer: x≈1.5708"
   ]
  },
  {
   "cell_type": "code",
   "execution_count": 7,
   "metadata": {},
   "outputs": [
    {
     "output_type": "execute_result",
     "data": {
      "text/plain": "     x (exact)                 x          error (%)\n0            1                 1                   \n1          3/2  1.50000000000000  0.500000000000000\n2        17/12  1.41666666666667  0.083333333333333\n3      577/408  1.41421568627451  0.002450980392157\nroot            1.41421356237310  0.000000000000000",
      "text/html": "<div>\n<style scoped>\n    .dataframe tbody tr th:only-of-type {\n        vertical-align: middle;\n    }\n\n    .dataframe tbody tr th {\n        vertical-align: top;\n    }\n\n    .dataframe thead th {\n        text-align: right;\n    }\n</style>\n<table border=\"1\" class=\"dataframe\">\n  <thead>\n    <tr style=\"text-align: right;\">\n      <th></th>\n      <th>x (exact)</th>\n      <th>x</th>\n      <th>error (%)</th>\n    </tr>\n  </thead>\n  <tbody>\n    <tr>\n      <th>0</th>\n      <td>1</td>\n      <td>1</td>\n      <td></td>\n    </tr>\n    <tr>\n      <th>1</th>\n      <td>3/2</td>\n      <td>1.50000000000000</td>\n      <td>0.500000000000000</td>\n    </tr>\n    <tr>\n      <th>2</th>\n      <td>17/12</td>\n      <td>1.41666666666667</td>\n      <td>0.083333333333333</td>\n    </tr>\n    <tr>\n      <th>3</th>\n      <td>577/408</td>\n      <td>1.41421568627451</td>\n      <td>0.002450980392157</td>\n    </tr>\n    <tr>\n      <th>root</th>\n      <td></td>\n      <td>1.41421356237310</td>\n      <td>0.000000000000000</td>\n    </tr>\n  </tbody>\n</table>\n</div>"
     },
     "metadata": {},
     "execution_count": 7
    }
   ],
   "source": [
    "newton(x**2-2, 1, exact=True, n=3)"
   ]
  },
  {
   "cell_type": "code",
   "execution_count": 8,
   "metadata": {},
   "outputs": [
    {
     "output_type": "execute_result",
     "data": {
      "text/plain": "                       x          error (%)\n0                      0                   \n1                   -0.1                   \n2     -0.513709182245311  0.413709182245311\n3     -0.609961481945027  0.096252299699716\n4     -0.651797094645731  0.041835612700704\n5     -0.658798769946493  0.007001675300762\n6     -0.659261254085192  0.000462484138699\n7     -0.659266042654047  0.000004788568856\nroot  -0.659266045766946  0.000000000000000",
      "text/html": "<div>\n<style scoped>\n    .dataframe tbody tr th:only-of-type {\n        vertical-align: middle;\n    }\n\n    .dataframe tbody tr th {\n        vertical-align: top;\n    }\n\n    .dataframe thead th {\n        text-align: right;\n    }\n</style>\n<table border=\"1\" class=\"dataframe\">\n  <thead>\n    <tr style=\"text-align: right;\">\n      <th></th>\n      <th>x</th>\n      <th>error (%)</th>\n    </tr>\n  </thead>\n  <tbody>\n    <tr>\n      <th>0</th>\n      <td>0</td>\n      <td></td>\n    </tr>\n    <tr>\n      <th>1</th>\n      <td>-0.1</td>\n      <td></td>\n    </tr>\n    <tr>\n      <th>2</th>\n      <td>-0.513709182245311</td>\n      <td>0.413709182245311</td>\n    </tr>\n    <tr>\n      <th>3</th>\n      <td>-0.609961481945027</td>\n      <td>0.096252299699716</td>\n    </tr>\n    <tr>\n      <th>4</th>\n      <td>-0.651797094645731</td>\n      <td>0.041835612700704</td>\n    </tr>\n    <tr>\n      <th>5</th>\n      <td>-0.658798769946493</td>\n      <td>0.007001675300762</td>\n    </tr>\n    <tr>\n      <th>6</th>\n      <td>-0.659261254085192</td>\n      <td>0.000462484138699</td>\n    </tr>\n    <tr>\n      <th>7</th>\n      <td>-0.659266042654047</td>\n      <td>0.000004788568856</td>\n    </tr>\n    <tr>\n      <th>root</th>\n      <td>-0.659266045766946</td>\n      <td>0.000000000000000</td>\n    </tr>\n  </tbody>\n</table>\n</div>"
     },
     "metadata": {},
     "execution_count": 8
    }
   ],
   "source": [
    "secant(cos(x)+2*sin(x)+x**2, 0, -0.1, t=1e-4)\n",
    "# Answer: x≈-0.6592"
   ]
  },
  {
   "cell_type": "code",
   "execution_count": 9,
   "metadata": {},
   "outputs": [],
   "source": [
    "A = Matrix([[1, 3, -2], [5, -2, 1], [7, -13, 8]]) # det(A) = 0\n",
    "B = Matrix([[1, 3, -2], [5, -2, 1], [7, -13, 0]]) # det(B) = 136\n",
    "b1 = Matrix([-1, 0, 3]) # Ax = b1 has infinitely many solutions\n",
    "b2 = Matrix([-1, 0, 4]) # Ax = b2 has no solutions\n",
    "b3 = Matrix([-1, 0, -13]) # Bx = b3 has one solution"
   ]
  },
  {
   "cell_type": "code",
   "execution_count": 10,
   "metadata": {},
   "outputs": [
    {
     "output_type": "execute_result",
     "data": {
      "text/plain": "Matrix([\n[0],\n[1],\n[2]])",
      "text/latex": "$\\displaystyle \\left[\\begin{matrix}0\\\\1\\\\2\\end{matrix}\\right]$"
     },
     "metadata": {},
     "execution_count": 10
    }
   ],
   "source": [
    "x3 = B.inv()*b3\n",
    "x3"
   ]
  },
  {
   "cell_type": "code",
   "execution_count": null,
   "metadata": {},
   "outputs": [],
   "source": []
  }
 ],
 "metadata": {
  "language_info": {
   "codemirror_mode": {
    "name": "ipython",
    "version": 3
   },
   "file_extension": ".py",
   "mimetype": "text/x-python",
   "name": "python",
   "nbconvert_exporter": "python",
   "pygments_lexer": "ipython3",
   "version": "3.8.2-final"
  },
  "orig_nbformat": 2,
  "kernelspec": {
   "name": "python38264bitece208m62quvzvpy38venva0782f6299c945048c418b642f02e2c9",
   "display_name": "Python 3.8.2 64-bit ('ece208-m62qUVzV-py3.8': venv)"
  }
 },
 "nbformat": 4,
 "nbformat_minor": 2
}