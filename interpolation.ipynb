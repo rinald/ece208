{
 "cells": [
  {
   "cell_type": "code",
   "execution_count": 1,
   "metadata": {},
   "outputs": [],
   "source": [
    "from util import *"
   ]
  },
  {
   "cell_type": "code",
   "execution_count": 2,
   "metadata": {},
   "outputs": [],
   "source": [
    "def L(i, xx):\n",
    "    p = 1\n",
    "\n",
    "    for j in range(len(xx)):\n",
    "        if j == i:\n",
    "            continue\n",
    "        \n",
    "        p *= (x-xx[j])/(xx[i]-xx[j])\n",
    "\n",
    "    return p\n",
    "\n",
    "\n",
    "def interpolation(xx, yy):\n",
    "    xx = list(map(Rational, xx.split()))\n",
    "    yy = list(map(Rational, yy.split()))\n",
    "    \n",
    "    assert len(xx) == len(yy)\n",
    "\n",
    "    f = 0\n",
    "\n",
    "    for i in range(len(xx)):\n",
    "        f += factor(L(i, xx) * yy[i])\n",
    "\n",
    "    return f, expand(f)\n",
    "    "
   ]
  },
  {
   "cell_type": "code",
   "execution_count": 3,
   "metadata": {},
   "outputs": [],
   "source": [
    "# Example 1\n",
    "f, fs = interpolation('0 1 2/3', '1 0 1/2')"
   ]
  },
  {
   "cell_type": "code",
   "execution_count": 4,
   "metadata": {},
   "outputs": [
    {
     "output_type": "execute_result",
     "data": {
      "text/plain": "-9*x*(x - 1)/4 + (x - 1)*(3*x - 2)/2",
      "text/latex": "$\\displaystyle - \\frac{9 x \\left(x - 1\\right)}{4} + \\frac{\\left(x - 1\\right) \\left(3 x - 2\\right)}{2}$"
     },
     "metadata": {},
     "execution_count": 4
    }
   ],
   "source": [
    "f"
   ]
  },
  {
   "cell_type": "code",
   "execution_count": 5,
   "metadata": {},
   "outputs": [
    {
     "output_type": "execute_result",
     "data": {
      "text/plain": "-3*x**2/4 - x/4 + 1",
      "text/latex": "$\\displaystyle - \\frac{3 x^{2}}{4} - \\frac{x}{4} + 1$"
     },
     "metadata": {},
     "execution_count": 5
    }
   ],
   "source": [
    "fs # after simplification"
   ]
  },
  {
   "cell_type": "code",
   "execution_count": 6,
   "metadata": {},
   "outputs": [],
   "source": [
    "# Example 2\n",
    "f, fs = interpolation('1 2 4', '-6 2 12')"
   ]
  },
  {
   "cell_type": "code",
   "execution_count": 7,
   "metadata": {},
   "outputs": [
    {
     "output_type": "execute_result",
     "data": {
      "text/plain": "-2*(x - 4)*(x - 2) - (x - 4)*(x - 1) + 2*(x - 2)*(x - 1)",
      "text/latex": "$\\displaystyle - 2 \\left(x - 4\\right) \\left(x - 2\\right) - \\left(x - 4\\right) \\left(x - 1\\right) + 2 \\left(x - 2\\right) \\left(x - 1\\right)$"
     },
     "metadata": {},
     "execution_count": 7
    }
   ],
   "source": [
    "f"
   ]
  },
  {
   "cell_type": "code",
   "execution_count": 8,
   "metadata": {},
   "outputs": [
    {
     "output_type": "execute_result",
     "data": {
      "text/plain": "-x**2 + 11*x - 16",
      "text/latex": "$\\displaystyle - x^{2} + 11 x - 16$"
     },
     "metadata": {},
     "execution_count": 8
    }
   ],
   "source": [
    "fs"
   ]
  }
 ],
 "metadata": {
  "language_info": {
   "codemirror_mode": {
    "name": "ipython",
    "version": 3
   },
   "file_extension": ".py",
   "mimetype": "text/x-python",
   "name": "python",
   "nbconvert_exporter": "python",
   "pygments_lexer": "ipython3",
   "version": "3.8.2-final"
  },
  "orig_nbformat": 2,
  "kernelspec": {
   "name": "python38264bitb8915b30a53d4d0d88046be1089d12b0",
   "display_name": "Python 3.8.2 64-bit"
  }
 },
 "nbformat": 4,
 "nbformat_minor": 2
}