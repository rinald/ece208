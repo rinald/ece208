{
 "metadata": {
  "language_info": {
   "codemirror_mode": {
    "name": "ipython",
    "version": 3
   },
   "file_extension": ".py",
   "mimetype": "text/x-python",
   "name": "python",
   "nbconvert_exporter": "python",
   "pygments_lexer": "ipython3",
   "version": 3
  },
  "orig_nbformat": 2,
  "kernelspec": {
   "name": "python_defaultSpec_1595489419941",
   "display_name": "Python 3.8.2 64-bit ('ece208-m62qUVzV-py3.8': venv)"
  }
 },
 "nbformat": 4,
 "nbformat_minor": 2,
 "cells": [
  {
   "cell_type": "code",
   "execution_count": 23,
   "metadata": {},
   "outputs": [],
   "source": [
    "from numan.interpolation import x, lagrangian, newton, Matrix\n",
    "from numan.methods import gauss_seidel"
   ]
  },
  {
   "cell_type": "code",
   "execution_count": 2,
   "metadata": {},
   "outputs": [],
   "source": [
    "_, f = lagrangian('0 0.5 1 3', '0 4.25 3 2')"
   ]
  },
  {
   "cell_type": "code",
   "execution_count": 3,
   "metadata": {},
   "outputs": [
    {
     "output_type": "execute_result",
     "data": {
      "text/plain": "59*x**3/15 - 169*x**2/10 + 479*x/30",
      "text/latex": "$\\displaystyle \\frac{59 x^{3}}{15} - \\frac{169 x^{2}}{10} + \\frac{479 x}{30}$"
     },
     "metadata": {},
     "execution_count": 3
    }
   ],
   "source": [
    "f"
   ]
  },
  {
   "cell_type": "code",
   "execution_count": 11,
   "metadata": {},
   "outputs": [],
   "source": [
    "_, f1 = newton('8.1 8.3 8.6 8.7', '16.94410 17.56492 18.50515 18.82091', n=1)"
   ]
  },
  {
   "cell_type": "code",
   "execution_count": 12,
   "metadata": {},
   "outputs": [
    {
     "output_type": "execute_result",
     "data": {
      "text/plain": "31041*x/10000 - 819911/100000",
      "text/latex": "$\\displaystyle \\frac{31041 x}{10000} - \\frac{819911}{100000}$"
     },
     "metadata": {},
     "execution_count": 12
    }
   ],
   "source": [
    "f1"
   ]
  },
  {
   "cell_type": "code",
   "execution_count": 8,
   "metadata": {},
   "outputs": [
    {
     "output_type": "execute_result",
     "data": {
      "text/plain": "17.8753300000000",
      "text/latex": "$\\displaystyle 17.87533$"
     },
     "metadata": {},
     "execution_count": 8
    }
   ],
   "source": [
    "f1.subs(x, 8.4)"
   ]
  },
  {
   "cell_type": "code",
   "execution_count": 10,
   "metadata": {},
   "outputs": [],
   "source": [
    "_, f2 = newton('8.1 8.3 8.6 8.7', '16.94410 17.56492 18.50515 18.82091', n=2)"
   ]
  },
  {
   "cell_type": "code",
   "execution_count": 13,
   "metadata": {},
   "outputs": [
    {
     "output_type": "execute_result",
     "data": {
      "text/plain": "3*x**2/50 + 21201*x/10000 - 416531/100000",
      "text/latex": "$\\displaystyle \\frac{3 x^{2}}{50} + \\frac{21201 x}{10000} - \\frac{416531}{100000}$"
     },
     "metadata": {},
     "execution_count": 13
    }
   ],
   "source": [
    "f2"
   ]
  },
  {
   "cell_type": "code",
   "execution_count": 14,
   "metadata": {},
   "outputs": [
    {
     "output_type": "execute_result",
     "data": {
      "text/plain": "17.8771300000000",
      "text/latex": "$\\displaystyle 17.87713$"
     },
     "metadata": {},
     "execution_count": 14
    }
   ],
   "source": [
    "f2.subs(x, 8.4)"
   ]
  },
  {
   "cell_type": "code",
   "execution_count": 15,
   "metadata": {},
   "outputs": [],
   "source": [
    "_, f3 = newton('8.1 8.3 8.6 8.7', '16.94410 17.56492 18.50515 18.82091', n=3)"
   ]
  },
  {
   "cell_type": "code",
   "execution_count": 16,
   "metadata": {},
   "outputs": [
    {
     "output_type": "execute_result",
     "data": {
      "text/plain": "-x**3/480 + 269*x**2/2400 + 404689*x/240000 - 1184309/400000",
      "text/latex": "$\\displaystyle - \\frac{x^{3}}{480} + \\frac{269 x^{2}}{2400} + \\frac{404689 x}{240000} - \\frac{1184309}{400000}$"
     },
     "metadata": {},
     "execution_count": 16
    }
   ],
   "source": [
    "f3"
   ]
  },
  {
   "cell_type": "code",
   "execution_count": 17,
   "metadata": {},
   "outputs": [
    {
     "output_type": "execute_result",
     "data": {
      "text/plain": "17.8771425000000",
      "text/latex": "$\\displaystyle 17.8771425$"
     },
     "metadata": {},
     "execution_count": 17
    }
   ],
   "source": [
    "f3.subs(x, 8.4)"
   ]
  },
  {
   "cell_type": "code",
   "execution_count": 22,
   "metadata": {
    "tags": []
   },
   "outputs": [
    {
     "output_type": "stream",
     "name": "stdout",
     "text": "[0.850000000000000, -1.21500000000000, 2.00650000000000]\n[1.01107500000000, -0.998242500000000, 2.00093175000000]\n[0.999958712500000, -0.999910953750000, 1.99998696662500]\n"
    }
   ],
   "source": [
    "gauss_seidel([[20, 1, -1], [1, -10, 1], [-1, 1, 10]], [17, 13, 18], n=3)"
   ]
  },
  {
   "cell_type": "code",
   "execution_count": 40,
   "metadata": {},
   "outputs": [],
   "source": [
    "A = Matrix([[1, 2, 0], [3, 6, -1], [1, 2, 1]])"
   ]
  },
  {
   "cell_type": "code",
   "execution_count": 41,
   "metadata": {},
   "outputs": [],
   "source": [
    "L, U, _ = A.LUdecomposition()"
   ]
  },
  {
   "cell_type": "code",
   "execution_count": 42,
   "metadata": {},
   "outputs": [
    {
     "output_type": "execute_result",
     "data": {
      "text/plain": "Matrix([\n[1,  0, 0],\n[3,  1, 0],\n[1, -1, 1]])",
      "text/latex": "$\\displaystyle \\left[\\begin{matrix}1 & 0 & 0\\\\3 & 1 & 0\\\\1 & -1 & 1\\end{matrix}\\right]$"
     },
     "metadata": {},
     "execution_count": 42
    }
   ],
   "source": [
    "L"
   ]
  },
  {
   "cell_type": "code",
   "execution_count": 43,
   "metadata": {},
   "outputs": [
    {
     "output_type": "execute_result",
     "data": {
      "text/plain": "Matrix([\n[1, 2,  0],\n[0, 0, -1],\n[0, 0,  0]])",
      "text/latex": "$\\displaystyle \\left[\\begin{matrix}1 & 2 & 0\\\\0 & 0 & -1\\\\0 & 0 & 0\\end{matrix}\\right]$"
     },
     "metadata": {},
     "execution_count": 43
    }
   ],
   "source": [
    "U"
   ]
  },
  {
   "cell_type": "code",
   "execution_count": 44,
   "metadata": {},
   "outputs": [],
   "source": [
    "B = Matrix([[2, -1, 3], [4, 2, 1], [-6, -1, 2]])"
   ]
  },
  {
   "cell_type": "code",
   "execution_count": 45,
   "metadata": {},
   "outputs": [],
   "source": [
    "L, U, _ = B.LUdecomposition()"
   ]
  },
  {
   "cell_type": "code",
   "execution_count": 46,
   "metadata": {},
   "outputs": [
    {
     "output_type": "execute_result",
     "data": {
      "text/plain": "Matrix([\n[ 1,  0, 0],\n[ 2,  1, 0],\n[-3, -1, 1]])",
      "text/latex": "$\\displaystyle \\left[\\begin{matrix}1 & 0 & 0\\\\2 & 1 & 0\\\\-3 & -1 & 1\\end{matrix}\\right]$"
     },
     "metadata": {},
     "execution_count": 46
    }
   ],
   "source": [
    "L"
   ]
  },
  {
   "cell_type": "code",
   "execution_count": 47,
   "metadata": {},
   "outputs": [
    {
     "output_type": "execute_result",
     "data": {
      "text/plain": "Matrix([\n[2, -1,  3],\n[0,  4, -5],\n[0,  0,  6]])",
      "text/latex": "$\\displaystyle \\left[\\begin{matrix}2 & -1 & 3\\\\0 & 4 & -5\\\\0 & 0 & 6\\end{matrix}\\right]$"
     },
     "metadata": {},
     "execution_count": 47
    }
   ],
   "source": [
    "U"
   ]
  },
  {
   "cell_type": "code",
   "execution_count": null,
   "metadata": {},
   "outputs": [],
   "source": []
  }
 ]
}