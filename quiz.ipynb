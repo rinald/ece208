{
 "cells": [
  {
   "cell_type": "code",
   "execution_count": 1,
   "metadata": {},
   "outputs": [],
   "source": [
    "from util import *\n"
   ]
  },
  {
   "cell_type": "code",
   "execution_count": 5,
   "metadata": {},
   "outputs": [
    {
     "output_type": "execute_result",
     "data": {
      "text/plain": "     x (exact)                 x           error (%)\n0            2                 2                    \n1            3                 3                    \n2         11/5  2.20000000000000  36.363636363636400\n3        29/13  2.23076923076923   1.379310344827590\n4       161/72  2.23611111111111   0.238891543239369\nroot            2.23606797749979   0.000000000000000",
      "text/html": "<div>\n<style scoped>\n    .dataframe tbody tr th:only-of-type {\n        vertical-align: middle;\n    }\n\n    .dataframe tbody tr th {\n        vertical-align: top;\n    }\n\n    .dataframe thead th {\n        text-align: right;\n    }\n</style>\n<table border=\"1\" class=\"dataframe\">\n  <thead>\n    <tr style=\"text-align: right;\">\n      <th></th>\n      <th>x (exact)</th>\n      <th>x</th>\n      <th>error (%)</th>\n    </tr>\n  </thead>\n  <tbody>\n    <tr>\n      <th>0</th>\n      <td>2</td>\n      <td>2</td>\n      <td></td>\n    </tr>\n    <tr>\n      <th>1</th>\n      <td>3</td>\n      <td>3</td>\n      <td></td>\n    </tr>\n    <tr>\n      <th>2</th>\n      <td>11/5</td>\n      <td>2.20000000000000</td>\n      <td>36.363636363636400</td>\n    </tr>\n    <tr>\n      <th>3</th>\n      <td>29/13</td>\n      <td>2.23076923076923</td>\n      <td>1.379310344827590</td>\n    </tr>\n    <tr>\n      <th>4</th>\n      <td>161/72</td>\n      <td>2.23611111111111</td>\n      <td>0.238891543239369</td>\n    </tr>\n    <tr>\n      <th>root</th>\n      <td></td>\n      <td>2.23606797749979</td>\n      <td>0.000000000000000</td>\n    </tr>\n  </tbody>\n</table>\n</div>"
     },
     "metadata": {},
     "execution_count": 5
    }
   ],
   "source": [
    "# Question 4\n",
    "secant(x**2-5, 2, 3, n=3, exact=True)"
   ]
  },
  {
   "cell_type": "code",
   "execution_count": 3,
   "metadata": {},
   "outputs": [
    {
     "output_type": "execute_result",
     "data": {
      "text/plain": "                        x (exact)                 x          error (%)\n0                               2                 2                   \n1                           21/10  2.10000000000000  4.761904761904760\n2                      11761/5615  2.09456812110419  0.259331689482187\n3     4138744325037/1975957316495  2.09455148169820  0.000794413798434\nroot                               2.09455148154233  0.000000000000000",
      "text/html": "<div>\n<style scoped>\n    .dataframe tbody tr th:only-of-type {\n        vertical-align: middle;\n    }\n\n    .dataframe tbody tr th {\n        vertical-align: top;\n    }\n\n    .dataframe thead th {\n        text-align: right;\n    }\n</style>\n<table border=\"1\" class=\"dataframe\">\n  <thead>\n    <tr style=\"text-align: right;\">\n      <th></th>\n      <th>x (exact)</th>\n      <th>x</th>\n      <th>error (%)</th>\n    </tr>\n  </thead>\n  <tbody>\n    <tr>\n      <th>0</th>\n      <td>2</td>\n      <td>2</td>\n      <td></td>\n    </tr>\n    <tr>\n      <th>1</th>\n      <td>21/10</td>\n      <td>2.10000000000000</td>\n      <td>4.761904761904760</td>\n    </tr>\n    <tr>\n      <th>2</th>\n      <td>11761/5615</td>\n      <td>2.09456812110419</td>\n      <td>0.259331689482187</td>\n    </tr>\n    <tr>\n      <th>3</th>\n      <td>4138744325037/1975957316495</td>\n      <td>2.09455148169820</td>\n      <td>0.000794413798434</td>\n    </tr>\n    <tr>\n      <th>root</th>\n      <td></td>\n      <td>2.09455148154233</td>\n      <td>0.000000000000000</td>\n    </tr>\n  </tbody>\n</table>\n</div>"
     },
     "metadata": {},
     "execution_count": 3
    }
   ],
   "source": [
    "# Question 5\n",
    "newton(x**3-2*x-5, 2, n=3, exact=True)"
   ]
  },
  {
   "cell_type": "code",
   "execution_count": 4,
   "metadata": {},
   "outputs": [],
   "source": [
    "# Bonus\n",
    "_, fs = interpolation('1 1.3 1.6 1.9 2.2', '0.7651977 0.6200860 0.4554022 0.2818186 0.1103623')"
   ]
  },
  {
   "cell_type": "code",
   "execution_count": 5,
   "metadata": {},
   "outputs": [
    {
     "output_type": "execute_result",
     "data": {
      "text/plain": "887*x**4/486000 + 268723*x**3/4860000 - 1111471*x**2/3240000 + 7133639*x/97200000 + 1187948093/1215000000",
      "text/latex": "$\\displaystyle \\frac{887 x^{4}}{486000} + \\frac{268723 x^{3}}{4860000} - \\frac{1111471 x^{2}}{3240000} + \\frac{7133639 x}{97200000} + \\frac{1187948093}{1215000000}$"
     },
     "metadata": {},
     "execution_count": 5
    }
   ],
   "source": [
    "fs"
   ]
  },
  {
   "cell_type": "code",
   "execution_count": null,
   "metadata": {},
   "outputs": [],
   "source": []
  }
 ],
 "metadata": {
  "language_info": {
   "codemirror_mode": {
    "name": "ipython",
    "version": 3
   },
   "file_extension": ".py",
   "mimetype": "text/x-python",
   "name": "python",
   "nbconvert_exporter": "python",
   "pygments_lexer": "ipython3",
   "version": "3.8.2-final"
  },
  "orig_nbformat": 2,
  "kernelspec": {
   "name": "python38264bit1c23dc77981a494abb643060d748a60a",
   "display_name": "Python 3.8.2 64-bit"
  }
 },
 "nbformat": 4,
 "nbformat_minor": 2
}