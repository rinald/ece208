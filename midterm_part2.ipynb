{
 "cells": [
  {
   "cell_type": "code",
   "execution_count": 1,
   "metadata": {},
   "outputs": [],
   "source": [
    "from numan.util import *\n",
    "from numan.interpolation import lagrangian"
   ]
  },
  {
   "cell_type": "code",
   "execution_count": 60,
   "metadata": {},
   "outputs": [
    {
     "output_type": "execute_result",
     "data": {
      "text/plain": "x*(-5/3 + 5*cos(3/5)/3) + 1",
      "text/latex": "$\\displaystyle x \\left(- \\frac{5}{3} + \\frac{5 \\cos{\\left(\\frac{3}{5} \\right)}}{3}\\right) + 1$"
     },
     "metadata": {},
     "execution_count": 60
    }
   ],
   "source": [
    "# Exercise 1\n",
    "_, f = lagrangian([0, 0.6, 0.9], [cos(0), cos(Rational('0.6')), cos(Rational('0.9'))], n=1)\n",
    "f"
   ]
  },
  {
   "cell_type": "code",
   "execution_count": 61,
   "metadata": {},
   "outputs": [
    {
     "output_type": "execute_result",
     "data": {
      "text/plain": "1/4 + 3*cos(3/5)/4",
      "text/latex": "$\\displaystyle \\frac{1}{4} + \\frac{3 \\cos{\\left(\\frac{3}{5} \\right)}}{4}$"
     },
     "metadata": {},
     "execution_count": 61
    }
   ],
   "source": [
    "a = f.subs(x, Rational('0.45'))\n",
    "a"
   ]
  },
  {
   "cell_type": "code",
   "execution_count": 62,
   "metadata": {},
   "outputs": [
    {
     "output_type": "execute_result",
     "data": {
      "text/plain": "0.869001711182259",
      "text/latex": "$\\displaystyle 0.869001711182259$"
     },
     "metadata": {},
     "execution_count": 62
    }
   ],
   "source": [
    "N(a)"
   ]
  },
  {
   "cell_type": "code",
   "execution_count": 74,
   "metadata": {},
   "outputs": [
    {
     "output_type": "execute_result",
     "data": {
      "text/plain": "x**2*(-50*cos(3/5)/9 + 50/27 + 100*cos(9/10)/27) + x*(-25/9 - 20*cos(9/10)/9 + 5*cos(3/5)) + 1",
      "text/latex": "$\\displaystyle x^{2} \\left(- \\frac{50 \\cos{\\left(\\frac{3}{5} \\right)}}{9} + \\frac{50}{27} + \\frac{100 \\cos{\\left(\\frac{9}{10} \\right)}}{27}\\right) + x \\left(- \\frac{25}{9} - \\frac{20 \\cos{\\left(\\frac{9}{10} \\right)}}{9} + 5 \\cos{\\left(\\frac{3}{5} \\right)}\\right) + 1$"
     },
     "metadata": {},
     "execution_count": 74
    }
   ],
   "source": [
    "_, f = lagrangian([0, 0.6, 0.9], [cos(0), cos(Rational('0.6')), cos(Rational('0.9'))], n=2)\n",
    "f"
   ]
  },
  {
   "cell_type": "code",
   "execution_count": 75,
   "metadata": {},
   "outputs": [
    {
     "output_type": "execute_result",
     "data": {
      "text/plain": "-0.25*cos(9/10) + 0.125 + 1.125*cos(3/5)",
      "text/latex": "$\\displaystyle - 0.25 \\cos{\\left(\\frac{9}{10} \\right)} + 0.125 + 1.125 \\cos{\\left(\\frac{3}{5} \\right)}$"
     },
     "metadata": {},
     "execution_count": 75
    }
   ],
   "source": [
    "a = f.subs(x, 0.45)\n",
    "a"
   ]
  },
  {
   "cell_type": "code",
   "execution_count": 76,
   "metadata": {},
   "outputs": [
    {
     "output_type": "execute_result",
     "data": {
      "text/plain": "0.898100074705722",
      "text/latex": "$\\displaystyle 0.898100074705722$"
     },
     "metadata": {},
     "execution_count": 76
    }
   ],
   "source": [
    "N(a)"
   ]
  },
  {
   "cell_type": "code",
   "execution_count": 80,
   "metadata": {},
   "outputs": [
    {
     "output_type": "execute_result",
     "data": {
      "text/plain": "x*(-5/3 + 5*cos(9/25)/3) + 1",
      "text/latex": "$\\displaystyle x \\left(- \\frac{5}{3} + \\frac{5 \\cos{\\left(\\frac{9}{25} \\right)}}{3}\\right) + 1$"
     },
     "metadata": {},
     "execution_count": 80
    }
   ],
   "source": [
    "_, f = lagrangian([0, 0.6, 0.9], [cos(0), cos(Rational('0.36')), cos(Rational('0.81'))], n=1)\n",
    "f"
   ]
  },
  {
   "cell_type": "code",
   "execution_count": 81,
   "metadata": {},
   "outputs": [
    {
     "output_type": "execute_result",
     "data": {
      "text/plain": "1/4 + 3*cos(9/25)/4",
      "text/latex": "$\\displaystyle \\frac{1}{4} + \\frac{3 \\cos{\\left(\\frac{9}{25} \\right)}}{4}$"
     },
     "metadata": {},
     "execution_count": 81
    }
   ],
   "source": [
    "b = f.subs(x, Rational('0.45'))\n",
    "b"
   ]
  },
  {
   "cell_type": "code",
   "execution_count": 82,
   "metadata": {},
   "outputs": [
    {
     "output_type": "execute_result",
     "data": {
      "text/plain": "0.951922617758451",
      "text/latex": "$\\displaystyle 0.951922617758451$"
     },
     "metadata": {},
     "execution_count": 82
    }
   ],
   "source": [
    "N(b)"
   ]
  },
  {
   "cell_type": "code",
   "execution_count": 77,
   "metadata": {},
   "outputs": [
    {
     "output_type": "execute_result",
     "data": {
      "text/plain": "x**2*(-50*cos(9/25)/9 + 50/27 + 100*cos(81/100)/27) + x*(-25/9 - 20*cos(81/100)/9 + 5*cos(9/25)) + 1",
      "text/latex": "$\\displaystyle x^{2} \\left(- \\frac{50 \\cos{\\left(\\frac{9}{25} \\right)}}{9} + \\frac{50}{27} + \\frac{100 \\cos{\\left(\\frac{81}{100} \\right)}}{27}\\right) + x \\left(- \\frac{25}{9} - \\frac{20 \\cos{\\left(\\frac{81}{100} \\right)}}{9} + 5 \\cos{\\left(\\frac{9}{25} \\right)}\\right) + 1$"
     },
     "metadata": {},
     "execution_count": 77
    }
   ],
   "source": [
    "_, f = lagrangian([0, 0.6, 0.9], [cos(0), cos(Rational('0.36')), cos(Rational('0.81'))], n=2)\n",
    "f"
   ]
  },
  {
   "cell_type": "code",
   "execution_count": 78,
   "metadata": {},
   "outputs": [
    {
     "output_type": "execute_result",
     "data": {
      "text/plain": "-cos(81/100)/4 + 1/8 + 9*cos(9/25)/8",
      "text/latex": "$\\displaystyle - \\frac{\\cos{\\left(\\frac{81}{100} \\right)}}{4} + \\frac{1}{8} + \\frac{9 \\cos{\\left(\\frac{9}{25} \\right)}}{8}$"
     },
     "metadata": {},
     "execution_count": 78
    }
   ],
   "source": [
    "b = f.subs(x, Rational('0.45'))\n",
    "b"
   ]
  },
  {
   "cell_type": "code",
   "execution_count": 79,
   "metadata": {},
   "outputs": [
    {
     "output_type": "execute_result",
     "data": {
      "text/plain": "1.00550931839974",
      "text/latex": "$\\displaystyle 1.00550931839974$"
     },
     "metadata": {},
     "execution_count": 79
    }
   ],
   "source": [
    "N(b)"
   ]
  },
  {
   "cell_type": "code",
   "execution_count": 10,
   "metadata": {},
   "outputs": [],
   "source": [
    "# Exercise 2\n",
    "_, f = lagrangian([10, 11, 12], [1, 3, 9])"
   ]
  },
  {
   "cell_type": "code",
   "execution_count": 11,
   "metadata": {},
   "outputs": [
    {
     "output_type": "execute_result",
     "data": {
      "text/plain": "(x - 12)*(x - 11)/2 - 3*(x - 12)*(x - 10) + 9*(x - 11)*(x - 10)/2",
      "text/latex": "$\\displaystyle \\frac{\\left(x - 12\\right) \\left(x - 11\\right)}{2} - 3 \\left(x - 12\\right) \\left(x - 10\\right) + \\frac{9 \\left(x - 11\\right) \\left(x - 10\\right)}{2}$"
     },
     "metadata": {},
     "execution_count": 11
    }
   ],
   "source": [
    "_"
   ]
  },
  {
   "cell_type": "code",
   "execution_count": 12,
   "metadata": {},
   "outputs": [
    {
     "output_type": "execute_result",
     "data": {
      "text/plain": "2*x**2 - 40*x + 201",
      "text/latex": "$\\displaystyle 2 x^{2} - 40 x + 201$"
     },
     "metadata": {},
     "execution_count": 12
    }
   ],
   "source": [
    "f"
   ]
  },
  {
   "cell_type": "code",
   "execution_count": 13,
   "metadata": {},
   "outputs": [
    {
     "output_type": "execute_result",
     "data": {
      "text/plain": "Matrix([\n[100, 10, 1],\n[121, 11, 1],\n[144, 12, 1]])",
      "text/latex": "$\\displaystyle \\left[\\begin{matrix}100 & 10 & 1\\\\121 & 11 & 1\\\\144 & 12 & 1\\end{matrix}\\right]$"
     },
     "metadata": {},
     "execution_count": 13
    }
   ],
   "source": [
    "A = Matrix([[100, 10, 1], [121, 11, 1], [144, 12, 1]])\n",
    "A"
   ]
  },
  {
   "cell_type": "code",
   "execution_count": 14,
   "metadata": {},
   "outputs": [
    {
     "output_type": "execute_result",
     "data": {
      "text/plain": "Matrix([\n[1],\n[3],\n[9]])",
      "text/latex": "$\\displaystyle \\left[\\begin{matrix}1\\\\3\\\\9\\end{matrix}\\right]$"
     },
     "metadata": {},
     "execution_count": 14
    }
   ],
   "source": [
    "d = Matrix([1, 3, 9])\n",
    "d"
   ]
  },
  {
   "cell_type": "code",
   "execution_count": 15,
   "metadata": {},
   "outputs": [
    {
     "output_type": "execute_result",
     "data": {
      "text/plain": "Matrix([\n[  2],\n[-40],\n[201]])",
      "text/latex": "$\\displaystyle \\left[\\begin{matrix}2\\\\-40\\\\201\\end{matrix}\\right]$"
     },
     "metadata": {},
     "execution_count": 15
    }
   ],
   "source": [
    "# Ac = d\n",
    "c = A.inv()*d\n",
    "c"
   ]
  },
  {
   "cell_type": "code",
   "execution_count": 25,
   "metadata": {},
   "outputs": [
    {
     "output_type": "execute_result",
     "data": {
      "text/plain": "17.8753300000000",
      "text/latex": "$\\displaystyle 17.87533$"
     },
     "metadata": {},
     "execution_count": 25
    }
   ],
   "source": [
    "# Exercise 3\n",
    "_, f = lagrangian([8.1, 8.3, 8.6, 8.7], [16.94410, 17.56492, 18.50515, 18.82091], n=1)\n",
    "N(f.subs(x, 8.4))"
   ]
  },
  {
   "cell_type": "code",
   "execution_count": 17,
   "metadata": {},
   "outputs": [
    {
     "output_type": "execute_result",
     "data": {
      "text/plain": "17.8771300000000",
      "text/latex": "$\\displaystyle 17.87713$"
     },
     "metadata": {},
     "execution_count": 17
    }
   ],
   "source": [
    "_, f = lagrangian([8.1, 8.3, 8.6, 8.7], [16.94410, 17.56492, 18.50515, 18.82091], n=2)\n",
    "f.subs(x, 8.4)"
   ]
  },
  {
   "cell_type": "code",
   "execution_count": 18,
   "metadata": {},
   "outputs": [
    {
     "output_type": "execute_result",
     "data": {
      "text/plain": "17.8771425000000",
      "text/latex": "$\\displaystyle 17.8771425$"
     },
     "metadata": {},
     "execution_count": 18
    }
   ],
   "source": [
    "_, f = lagrangian([8.1, 8.3, 8.6, 8.7], [16.94410, 17.56492, 18.50515, 18.82091], n=3)\n",
    "f.subs(x, 8.4)"
   ]
  },
  {
   "cell_type": "code",
   "execution_count": 19,
   "metadata": {},
   "outputs": [
    {
     "output_type": "execute_result",
     "data": {
      "text/plain": "0.395146010000000",
      "text/latex": "$\\displaystyle 0.39514601$"
     },
     "metadata": {},
     "execution_count": 19
    }
   ],
   "source": [
    "_, f = lagrangian([0.6, 0.7, 0.8, 1], [-0.17694460, 0.01375227, 0.22363362, 0.65809197], n=1)\n",
    "N(f.subs(x, 0.9))"
   ]
  },
  {
   "cell_type": "code",
   "execution_count": 2,
   "metadata": {},
   "outputs": [
    {
     "output_type": "execute_result",
     "data": {
      "text/plain": "0.433514970000000",
      "text/latex": "$\\displaystyle 0.43351497$"
     },
     "metadata": {},
     "execution_count": 2
    }
   ],
   "source": [
    "_, f = lagrangian([0.7, 0.8, 1], [0.01375227, 0.22363362, 0.65809197], n=1)\n",
    "N(f.subs(x, 0.9))"
   ]
  },
  {
   "cell_type": "code",
   "execution_count": 20,
   "metadata": {},
   "outputs": [
    {
     "output_type": "execute_result",
     "data": {
      "text/plain": "0.452699450000000",
      "text/latex": "$\\displaystyle 0.45269945$"
     },
     "metadata": {},
     "execution_count": 20
    }
   ],
   "source": [
    "_, f = lagrangian([0.6, 0.7, 0.8, 1], [-0.17694460, 0.01375227, 0.22363362, 0.65809197], n=2)\n",
    "f.subs(x, 0.9)"
   ]
  },
  {
   "cell_type": "code",
   "execution_count": 5,
   "metadata": {},
   "outputs": [
    {
     "output_type": "execute_result",
     "data": {
      "text/plain": "0.45269945"
     },
     "metadata": {},
     "execution_count": 5
    }
   ],
   "source": [
    "-0.17694460-3*0.01375227+3*0.22363362"
   ]
  },
  {
   "cell_type": "code",
   "execution_count": 6,
   "metadata": {},
   "outputs": [
    {
     "output_type": "execute_result",
     "data": {
      "text/plain": "0.441985002500000",
      "text/latex": "$\\displaystyle 0.4419850025$"
     },
     "metadata": {},
     "execution_count": 6
    }
   ],
   "source": [
    "_, f = lagrangian([0.6, 0.7, 0.8, 1], [-0.17694460, 0.01375227, 0.22363362, 0.65809197])\n",
    "f.subs(x, 0.9)"
   ]
  },
  {
   "cell_type": "code",
   "execution_count": 87,
   "metadata": {},
   "outputs": [
    {
     "output_type": "execute_result",
     "data": {
      "text/plain": "8*x*y*(x - 2)*(x - 1)/3 - 3*x*(x - 2)*(2*x - 1) + x*(x - 1)*(2*x - 1)/3",
      "text/latex": "$\\displaystyle \\frac{8 x y \\left(x - 2\\right) \\left(x - 1\\right)}{3} - 3 x \\left(x - 2\\right) \\left(2 x - 1\\right) + \\frac{x \\left(x - 1\\right) \\left(2 x - 1\\right)}{3}$"
     },
     "metadata": {},
     "execution_count": 87
    }
   ],
   "source": [
    "# Exercise 4\n",
    "_, f = lagrangian([0, '1/2', 1, 2], [0, y, 3, 2])\n",
    "_"
   ]
  },
  {
   "cell_type": "code",
   "execution_count": 36,
   "metadata": {},
   "outputs": [
    {
     "output_type": "execute_result",
     "data": {
      "text/plain": "[17/4]"
     },
     "metadata": {},
     "execution_count": 36
    }
   ],
   "source": [
    "eq = Eq((8*y-16)/3, 6)\n",
    "solve(eq)"
   ]
  },
  {
   "cell_type": "code",
   "execution_count": 86,
   "metadata": {},
   "outputs": [
    {
     "output_type": "execute_result",
     "data": {
      "text/plain": "6*x**3 - 20*x**2 + 17*x",
      "text/latex": "$\\displaystyle 6 x^{3} - 20 x^{2} + 17 x$"
     },
     "metadata": {},
     "execution_count": 86
    }
   ],
   "source": [
    "_, f = lagrangian([0, 0.5, 1, 2], [0, '17/4', 3, 2])\n",
    "f"
   ]
  },
  {
   "cell_type": "code",
   "execution_count": 42,
   "metadata": {},
   "outputs": [
    {
     "output_type": "execute_result",
     "data": {
      "text/plain": "x**3/3 - 2*x**2 + 11*x/3 + 1",
      "text/latex": "$\\displaystyle \\frac{x^{3}}{3} - 2 x^{2} + \\frac{11 x}{3} + 1$"
     },
     "metadata": {},
     "execution_count": 42
    }
   ],
   "source": [
    "# Exercise 5\n",
    "_, f = lagrangian([0, 1, 2, 3], [1, 3, 3, 3])\n",
    "f"
   ]
  },
  {
   "cell_type": "code",
   "execution_count": 43,
   "metadata": {},
   "outputs": [
    {
     "output_type": "execute_result",
     "data": {
      "text/plain": "2.87500000000000",
      "text/latex": "$\\displaystyle 2.875$"
     },
     "metadata": {},
     "execution_count": 43
    }
   ],
   "source": [
    "f.subs(x, 2.5)"
   ]
  },
  {
   "cell_type": "code",
   "execution_count": 44,
   "metadata": {},
   "outputs": [
    {
     "output_type": "execute_result",
     "data": {
      "text/plain": "2*x + 1",
      "text/latex": "$\\displaystyle 2 x + 1$"
     },
     "metadata": {},
     "execution_count": 44
    }
   ],
   "source": [
    "_, f = lagrangian([0, 1], [1, 3])\n",
    "f"
   ]
  },
  {
   "cell_type": "code",
   "execution_count": 47,
   "metadata": {},
   "outputs": [
    {
     "output_type": "execute_result",
     "data": {
      "text/plain": "3",
      "text/latex": "$\\displaystyle 3$"
     },
     "metadata": {},
     "execution_count": 47
    }
   ],
   "source": [
    "_, f = lagrangian([1, 2, 2.5], [3, 3, 3])\n",
    "f"
   ]
  },
  {
   "cell_type": "code",
   "execution_count": 83,
   "metadata": {},
   "outputs": [
    {
     "output_type": "execute_result",
     "data": {
      "text/plain": "0.979566842325161",
      "text/latex": "$\\displaystyle 0.979566842325161$"
     },
     "metadata": {},
     "execution_count": 83
    }
   ],
   "source": [
    "cos(0.45**2)"
   ]
  },
  {
   "cell_type": "code",
   "execution_count": null,
   "metadata": {},
   "outputs": [],
   "source": []
  }
 ],
 "metadata": {
  "language_info": {
   "codemirror_mode": {
    "name": "ipython",
    "version": 3
   },
   "file_extension": ".py",
   "mimetype": "text/x-python",
   "name": "python",
   "nbconvert_exporter": "python",
   "pygments_lexer": "ipython3",
   "version": "3.8.2-final"
  },
  "orig_nbformat": 2,
  "kernelspec": {
   "name": "python38264bitece208m62quvzvpy38venva0782f6299c945048c418b642f02e2c9",
   "display_name": "Python 3.8.2 64-bit ('ece208-m62qUVzV-py3.8': venv)"
  }
 },
 "nbformat": 4,
 "nbformat_minor": 2
}