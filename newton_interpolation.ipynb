{
 "cells": [
  {
   "cell_type": "code",
   "execution_count": 1,
   "metadata": {},
   "outputs": [],
   "source": [
    "from util import *"
   ]
  },
  {
   "cell_type": "code",
   "execution_count": 29,
   "metadata": {},
   "outputs": [],
   "source": [
    "f, fs = newton_interpolation('1 2 3 4', '-1 2 9 100')"
   ]
  },
  {
   "cell_type": "code",
   "execution_count": 30,
   "metadata": {},
   "outputs": [
    {
     "output_type": "execute_result",
     "data": {
      "text/plain": "3*x + 40*(x - 3)*(x - 2)*(x - 1)/3 + 2*(x - 2)*(x - 1) - 4",
      "text/latex": "$\\displaystyle 3 x + \\frac{40 \\left(x - 3\\right) \\left(x - 2\\right) \\left(x - 1\\right)}{3} + 2 \\left(x - 2\\right) \\left(x - 1\\right) - 4$"
     },
     "metadata": {},
     "execution_count": 30
    }
   ],
   "source": [
    "f"
   ]
  },
  {
   "cell_type": "code",
   "execution_count": 31,
   "metadata": {},
   "outputs": [
    {
     "output_type": "execute_result",
     "data": {
      "text/plain": "40*x**3/3 - 78*x**2 + 431*x/3 - 80",
      "text/latex": "$\\displaystyle \\frac{40 x^{3}}{3} - 78 x^{2} + \\frac{431 x}{3} - 80$"
     },
     "metadata": {},
     "execution_count": 31
    }
   ],
   "source": [
    "fs"
   ]
  },
  {
   "cell_type": "code",
   "execution_count": null,
   "metadata": {},
   "outputs": [],
   "source": []
  }
 ],
 "metadata": {
  "language_info": {
   "codemirror_mode": {
    "name": "ipython",
    "version": 3
   },
   "file_extension": ".py",
   "mimetype": "text/x-python",
   "name": "python",
   "nbconvert_exporter": "python",
   "pygments_lexer": "ipython3",
   "version": "3.8.2-final"
  },
  "orig_nbformat": 2,
  "kernelspec": {
   "name": "python38264bit1c23dc77981a494abb643060d748a60a",
   "display_name": "Python 3.8.2 64-bit"
  }
 },
 "nbformat": 4,
 "nbformat_minor": 2
}