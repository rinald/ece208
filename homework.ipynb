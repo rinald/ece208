{
 "cells": [
  {
   "cell_type": "code",
   "execution_count": 2,
   "metadata": {},
   "outputs": [],
   "source": [
    "from util import *"
   ]
  },
  {
   "cell_type": "code",
   "execution_count": 6,
   "metadata": {},
   "outputs": [
    {
     "output_type": "stream",
     "name": "stdout",
     "text": "x1 ~= 2.48672383314645\nx2 ~= 1.97112084195128\nx3 ~= 1.77064548747808\nx4 ~= 1.73911409759910\nx5 ~= 1.73837206147628\nx6 ~= 1.73837165620369\nx7 ~= 1.73837165620357\n\nActual root:\n1.73837165620357\n"
    }
   ],
   "source": [
    "# Exercise 1\n",
    "f = x**3-5/2*x**(3/2)+2*x-3\n",
    "\n",
    "newton(f, 1.1)"
   ]
  },
  {
   "cell_type": "code",
   "execution_count": 4,
   "metadata": {},
   "outputs": [
    {
     "output_type": "stream",
     "name": "stdout",
     "text": "x1 = 7/2 = 3.50000000000000\nx2 = 13/4 = 3.25000000000000\nx3 = 27/8 = 3.37500000000000\nx4 = 53/16 = 3.31250000000000\nx5 = 105/32 = 3.28125000000000\nx6 = 211/64 = 3.29687500000000\nx7 = 421/128 = 3.28906250000000\nx8 = 843/256 = 3.29296875000000\nx9 = 1687/512 = 3.29492187500000\nx10 = 3375/1024 = 3.29589843750000\n\nActual root:\n3.29658939551373\n"
    }
   ],
   "source": [
    "# Exercise 2\n",
    "f = exp(-x)*(3.2*sin(x)-0.5*cos(x))\n",
    "\n",
    "bisection(f, 3, 4, n=10, t=1e-3)"
   ]
  },
  {
   "cell_type": "code",
   "execution_count": 7,
   "metadata": {},
   "outputs": [
    {
     "output_type": "stream",
     "name": "stdout",
     "text": "x2 = 12/5 ~= 2.40000000000000\nx3 = 22/9 ~= 2.44444444444444\nx4 = 267/109 ~= 2.44954128440367\nx5 = 11760/4801 ~= 2.44948968964799\nx6 = 2093258/854569 ~= 2.44948974278262\nx7 = 24616714347/10049731549 ~= 2.44948974278318\n\nActual root:\n2.44948974278318\n"
    }
   ],
   "source": [
    "# Exercise 3\n",
    "f = x**2-6\n",
    "\n",
    "secant(f, 2, 3, exact=True)"
   ]
  },
  {
   "cell_type": "code",
   "execution_count": 8,
   "metadata": {},
   "outputs": [],
   "source": [
    "g = lambda x: np.exp(-x)*(3.2*np.sin(x)-0.5*np.cos(x))"
   ]
  },
  {
   "cell_type": "code",
   "execution_count": 9,
   "metadata": {},
   "outputs": [
    {
     "output_type": "execute_result",
     "data": {
      "text/plain": "0.04712745682187973"
     },
     "metadata": {},
     "execution_count": 9
    }
   ],
   "source": [
    "g(3)"
   ]
  },
  {
   "cell_type": "code",
   "execution_count": 11,
   "metadata": {},
   "outputs": [
    {
     "output_type": "execute_result",
     "data": {
      "text/plain": "-0.01975748317666089"
     },
     "metadata": {},
     "execution_count": 11
    }
   ],
   "source": [
    "g(3.5)"
   ]
  },
  {
   "cell_type": "code",
   "execution_count": null,
   "metadata": {},
   "outputs": [],
   "source": [
    "h = lambda x: x**3-5/2*x**(3/2)+2*x-3"
   ]
  },
  {
   "cell_type": "code",
   "execution_count": null,
   "metadata": {},
   "outputs": [],
   "source": []
  }
 ],
 "metadata": {
  "file_extension": ".py",
  "kernelspec": {
   "display_name": "Python 3.8.2 64-bit ('ece208-m62qUVzV-py3.8': venv)",
   "language": "python",
   "name": "python38264bitece208m62quvzvpy38venv9ddc37e95da940c2a250a28c7cb506ca"
  },
  "language_info": {
   "codemirror_mode": {
    "name": "ipython",
    "version": 3
   },
   "file_extension": ".py",
   "mimetype": "text/x-python",
   "name": "python",
   "nbconvert_exporter": "python",
   "pygments_lexer": "ipython3",
   "version": "3.8.2-final"
  },
  "mimetype": "text/x-python",
  "name": "python",
  "npconvert_exporter": "python",
  "pygments_lexer": "ipython3",
  "version": 3
 },
 "nbformat": 4,
 "nbformat_minor": 2
}