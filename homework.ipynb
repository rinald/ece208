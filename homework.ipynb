{
 "cells": [
  {
   "cell_type": "code",
   "execution_count": 2,
   "metadata": {},
   "outputs": [],
   "source": [
    "from util import *"
   ]
  },
  {
   "cell_type": "code",
   "execution_count": 3,
   "metadata": {},
   "outputs": [
    {
     "output_type": "execute_result",
     "data": {
      "text/plain": "                     x              error\n0                  1.1                NaN\n1     2.48672383314645  1.386723833146450\n2     1.97112084195128  0.515602991195172\n3     1.77064548747808  0.200475354473199\n4     1.73911409759910  0.031531389878975\n5     1.73837206147628  0.000742036122821\n6     1.73837165620369  0.000000405272593\n7     1.73837165620357  0.000000000000121\nroot  1.73837165620357  0.000000000000000",
      "text/html": "<div>\n<style scoped>\n    .dataframe tbody tr th:only-of-type {\n        vertical-align: middle;\n    }\n\n    .dataframe tbody tr th {\n        vertical-align: top;\n    }\n\n    .dataframe thead th {\n        text-align: right;\n    }\n</style>\n<table border=\"1\" class=\"dataframe\">\n  <thead>\n    <tr style=\"text-align: right;\">\n      <th></th>\n      <th>x</th>\n      <th>error</th>\n    </tr>\n  </thead>\n  <tbody>\n    <tr>\n      <th>0</th>\n      <td>1.1</td>\n      <td>NaN</td>\n    </tr>\n    <tr>\n      <th>1</th>\n      <td>2.48672383314645</td>\n      <td>1.386723833146450</td>\n    </tr>\n    <tr>\n      <th>2</th>\n      <td>1.97112084195128</td>\n      <td>0.515602991195172</td>\n    </tr>\n    <tr>\n      <th>3</th>\n      <td>1.77064548747808</td>\n      <td>0.200475354473199</td>\n    </tr>\n    <tr>\n      <th>4</th>\n      <td>1.73911409759910</td>\n      <td>0.031531389878975</td>\n    </tr>\n    <tr>\n      <th>5</th>\n      <td>1.73837206147628</td>\n      <td>0.000742036122821</td>\n    </tr>\n    <tr>\n      <th>6</th>\n      <td>1.73837165620369</td>\n      <td>0.000000405272593</td>\n    </tr>\n    <tr>\n      <th>7</th>\n      <td>1.73837165620357</td>\n      <td>0.000000000000121</td>\n    </tr>\n    <tr>\n      <th>root</th>\n      <td>1.73837165620357</td>\n      <td>0.000000000000000</td>\n    </tr>\n  </tbody>\n</table>\n</div>"
     },
     "metadata": {},
     "execution_count": 3
    }
   ],
   "source": [
    "# Exercise 1\n",
    "f = x**3-5/2*x**(3/2)+2*x-3\n",
    "\n",
    "newton(f, 1.1)"
   ]
  },
  {
   "cell_type": "code",
   "execution_count": 4,
   "metadata": {},
   "outputs": [
    {
     "output_type": "execute_result",
     "data": {
      "text/plain": "      x (exact)                 x              error\n0             3                 3                NaN\n1             4                 4                NaN\n2           7/2  3.50000000000000  0.500000000000000\n3          13/4  3.25000000000000  0.250000000000000\n4          27/8  3.37500000000000  0.125000000000000\n5         53/16  3.31250000000000  0.062500000000000\n6        105/32  3.28125000000000  0.031250000000000\n7        211/64  3.29687500000000  0.015625000000000\n8       421/128  3.28906250000000  0.007812500000000\n9       843/256  3.29296875000000  0.003906250000000\n10     1687/512  3.29492187500000  0.001953125000000\n11    3375/1024  3.29589843750000  0.000976562500000\nroot        NaN  3.29658939551373  0.000000000000000",
      "text/html": "<div>\n<style scoped>\n    .dataframe tbody tr th:only-of-type {\n        vertical-align: middle;\n    }\n\n    .dataframe tbody tr th {\n        vertical-align: top;\n    }\n\n    .dataframe thead th {\n        text-align: right;\n    }\n</style>\n<table border=\"1\" class=\"dataframe\">\n  <thead>\n    <tr style=\"text-align: right;\">\n      <th></th>\n      <th>x (exact)</th>\n      <th>x</th>\n      <th>error</th>\n    </tr>\n  </thead>\n  <tbody>\n    <tr>\n      <th>0</th>\n      <td>3</td>\n      <td>3</td>\n      <td>NaN</td>\n    </tr>\n    <tr>\n      <th>1</th>\n      <td>4</td>\n      <td>4</td>\n      <td>NaN</td>\n    </tr>\n    <tr>\n      <th>2</th>\n      <td>7/2</td>\n      <td>3.50000000000000</td>\n      <td>0.500000000000000</td>\n    </tr>\n    <tr>\n      <th>3</th>\n      <td>13/4</td>\n      <td>3.25000000000000</td>\n      <td>0.250000000000000</td>\n    </tr>\n    <tr>\n      <th>4</th>\n      <td>27/8</td>\n      <td>3.37500000000000</td>\n      <td>0.125000000000000</td>\n    </tr>\n    <tr>\n      <th>5</th>\n      <td>53/16</td>\n      <td>3.31250000000000</td>\n      <td>0.062500000000000</td>\n    </tr>\n    <tr>\n      <th>6</th>\n      <td>105/32</td>\n      <td>3.28125000000000</td>\n      <td>0.031250000000000</td>\n    </tr>\n    <tr>\n      <th>7</th>\n      <td>211/64</td>\n      <td>3.29687500000000</td>\n      <td>0.015625000000000</td>\n    </tr>\n    <tr>\n      <th>8</th>\n      <td>421/128</td>\n      <td>3.28906250000000</td>\n      <td>0.007812500000000</td>\n    </tr>\n    <tr>\n      <th>9</th>\n      <td>843/256</td>\n      <td>3.29296875000000</td>\n      <td>0.003906250000000</td>\n    </tr>\n    <tr>\n      <th>10</th>\n      <td>1687/512</td>\n      <td>3.29492187500000</td>\n      <td>0.001953125000000</td>\n    </tr>\n    <tr>\n      <th>11</th>\n      <td>3375/1024</td>\n      <td>3.29589843750000</td>\n      <td>0.000976562500000</td>\n    </tr>\n    <tr>\n      <th>root</th>\n      <td>NaN</td>\n      <td>3.29658939551373</td>\n      <td>0.000000000000000</td>\n    </tr>\n  </tbody>\n</table>\n</div>"
     },
     "metadata": {},
     "execution_count": 4
    }
   ],
   "source": [
    "# Exercise 2\n",
    "f = exp(-x)*(3.2*sin(x)-0.5*cos(x))\n",
    "\n",
    "bisection(f, 3, 4, n=10, t=1e-3)"
   ]
  },
  {
   "cell_type": "code",
   "execution_count": 5,
   "metadata": {},
   "outputs": [
    {
     "output_type": "execute_result",
     "data": {
      "text/plain": "                     x              error\n0                    2                NaN\n1                    3                NaN\n2     2.40000000000000  0.600000000000000\n3     2.44444444444444  0.044444444444444\n4     2.44954128440367  0.005096839959225\n5     2.44948968964799  0.000051594755679\n6     2.44948974278262  0.000000053134629\n7     2.44948974278318  0.000000000000559\nroot  2.44948974278318  0.000000000000000",
      "text/html": "<div>\n<style scoped>\n    .dataframe tbody tr th:only-of-type {\n        vertical-align: middle;\n    }\n\n    .dataframe tbody tr th {\n        vertical-align: top;\n    }\n\n    .dataframe thead th {\n        text-align: right;\n    }\n</style>\n<table border=\"1\" class=\"dataframe\">\n  <thead>\n    <tr style=\"text-align: right;\">\n      <th></th>\n      <th>x</th>\n      <th>error</th>\n    </tr>\n  </thead>\n  <tbody>\n    <tr>\n      <th>0</th>\n      <td>2</td>\n      <td>NaN</td>\n    </tr>\n    <tr>\n      <th>1</th>\n      <td>3</td>\n      <td>NaN</td>\n    </tr>\n    <tr>\n      <th>2</th>\n      <td>2.40000000000000</td>\n      <td>0.600000000000000</td>\n    </tr>\n    <tr>\n      <th>3</th>\n      <td>2.44444444444444</td>\n      <td>0.044444444444444</td>\n    </tr>\n    <tr>\n      <th>4</th>\n      <td>2.44954128440367</td>\n      <td>0.005096839959225</td>\n    </tr>\n    <tr>\n      <th>5</th>\n      <td>2.44948968964799</td>\n      <td>0.000051594755679</td>\n    </tr>\n    <tr>\n      <th>6</th>\n      <td>2.44948974278262</td>\n      <td>0.000000053134629</td>\n    </tr>\n    <tr>\n      <th>7</th>\n      <td>2.44948974278318</td>\n      <td>0.000000000000559</td>\n    </tr>\n    <tr>\n      <th>root</th>\n      <td>2.44948974278318</td>\n      <td>0.000000000000000</td>\n    </tr>\n  </tbody>\n</table>\n</div>"
     },
     "metadata": {},
     "execution_count": 5
    }
   ],
   "source": [
    "# Exercise 3\n",
    "f = x**2-6\n",
    "\n",
    "secant(f, 2, 3)"
   ]
  }
 ],
 "metadata": {
  "file_extension": ".py",
  "kernelspec": {
   "display_name": "Python 3.8.2 64-bit",
   "language": "python",
   "name": "python38264bitb8915b30a53d4d0d88046be1089d12b0"
  },
  "language_info": {
   "codemirror_mode": {
    "name": "ipython",
    "version": 3
   },
   "file_extension": ".py",
   "mimetype": "text/x-python",
   "name": "python",
   "nbconvert_exporter": "python",
   "pygments_lexer": "ipython3",
   "version": "3.8.2-final"
  },
  "mimetype": "text/x-python",
  "name": "python",
  "npconvert_exporter": "python",
  "pygments_lexer": "ipython3",
  "version": 3
 },
 "nbformat": 4,
 "nbformat_minor": 2
}